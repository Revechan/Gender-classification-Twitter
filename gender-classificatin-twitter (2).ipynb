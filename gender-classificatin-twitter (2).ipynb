{
 "cells": [
  {
   "cell_type": "markdown",
   "metadata": {
    "_uuid": "4c6e03d7a3b9f72cb9483f8db8abf6f9692f06dc"
   },
   "source": [
    "# Predict users' gender based on Twitter text"
   ]
  },
  {
   "cell_type": "code",
   "execution_count": 1,
   "metadata": {
    "_uuid": "0ccbfee066ac7e17d80f398952264615464930de"
   },
   "outputs": [],
   "source": [
    "# Preparing\n",
    "import pandas as pd\n",
    "import numpy as np\n",
    "import matplotlib.pyplot as plt\n",
    "import seaborn as sns\n",
    "from sklearn.model_selection import train_test_split\n",
    "from sklearn.pipeline import Pipeline\n",
    "from sklearn.feature_extraction.text import TfidfVectorizer\n",
    "from sklearn.metrics import accuracy_score, confusion_matrix, classification_report\n",
    "%matplotlib inline"
   ]
  },
  {
   "cell_type": "markdown",
   "metadata": {},
   "source": [
    "Basically, this project is trying to make inference about the user's gender based on the text S/He posts"
   ]
  },
  {
   "cell_type": "code",
   "execution_count": 2,
   "metadata": {
    "_uuid": "7b1594a655519108d0a3d5a611db52ad886ac3e7",
    "scrolled": false
   },
   "outputs": [
    {
     "name": "stdout",
     "output_type": "stream",
     "text": [
      "<class 'pandas.core.frame.DataFrame'>\n",
      "RangeIndex: 20050 entries, 0 to 20049\n",
      "Data columns (total 26 columns):\n",
      "_unit_id                 20050 non-null int64\n",
      "_golden                  20050 non-null bool\n",
      "_unit_state              20050 non-null object\n",
      "_trusted_judgments       20050 non-null int64\n",
      "_last_judgment_at        20000 non-null object\n",
      "gender                   19953 non-null object\n",
      "gender:confidence        20024 non-null float64\n",
      "profile_yn               20050 non-null object\n",
      "profile_yn:confidence    20050 non-null float64\n",
      "created                  20050 non-null object\n",
      "description              16306 non-null object\n",
      "fav_number               20050 non-null int64\n",
      "gender_gold              50 non-null object\n",
      "link_color               20050 non-null object\n",
      "name                     20050 non-null object\n",
      "profile_yn_gold          50 non-null object\n",
      "profileimage             20050 non-null object\n",
      "retweet_count            20050 non-null int64\n",
      "sidebar_color            20050 non-null object\n",
      "text                     20050 non-null object\n",
      "tweet_coord              159 non-null object\n",
      "tweet_count              20050 non-null int64\n",
      "tweet_created            20050 non-null object\n",
      "tweet_id                 20050 non-null float64\n",
      "tweet_location           12566 non-null object\n",
      "user_timezone            12252 non-null object\n",
      "dtypes: bool(1), float64(3), int64(5), object(17)\n",
      "memory usage: 3.8+ MB\n"
     ]
    }
   ],
   "source": [
    "# First, let's load the dataset\n",
    "data = pd.read_csv('../input/gender-classifier-DFE-791531.csv', encoding='latin-1')\n",
    "data.head()\n",
    "data.info()"
   ]
  },
  {
   "cell_type": "markdown",
   "metadata": {},
   "source": [
    "So, we have 26 columns. However,columns or attributes like user_timezone are not useful for the prediction. So we need to drop some of the columns to reduce the workload."
   ]
  },
  {
   "cell_type": "code",
   "execution_count": 3,
   "metadata": {},
   "outputs": [
    {
     "name": "stdout",
     "output_type": "stream",
     "text": [
      "<class 'pandas.core.frame.DataFrame'>\n",
      "RangeIndex: 20050 entries, 0 to 20049\n",
      "Data columns (total 9 columns):\n",
      "gender               19953 non-null object\n",
      "gender:confidence    20024 non-null float64\n",
      "description          16306 non-null object\n",
      "fav_number           20050 non-null int64\n",
      "link_color           20050 non-null object\n",
      "name                 20050 non-null object\n",
      "retweet_count        20050 non-null int64\n",
      "sidebar_color        20050 non-null object\n",
      "text                 20050 non-null object\n",
      "dtypes: float64(1), int64(2), object(6)\n",
      "memory usage: 1.4+ MB\n"
     ]
    }
   ],
   "source": [
    "# Drop unnecessary columns\n",
    "data.drop (columns = ['_unit_id',\n",
    "                      '_last_judgment_at',\n",
    "                      'user_timezone',\n",
    "                      'tweet_coord',\n",
    "                      'tweet_count',\n",
    "                      'tweet_created', \n",
    "                      'tweet_id',\n",
    "                      'tweet_location',\n",
    "                      'profileimage',\n",
    "                      'created',\n",
    "                      'profile_yn',\n",
    "                      'profile_yn:confidence',\n",
    "                      'profile_yn_gold',\n",
    "                      '_golden',\n",
    "                      '_unit_state',\n",
    "                      '_trusted_judgments',\n",
    "                      'gender_gold'\n",
    "                     ], inplace = True)\n",
    "\n",
    "data.info()"
   ]
  },
  {
   "cell_type": "markdown",
   "metadata": {},
   "source": [
    "Now we have 9 columns. Let's continue to clean the dataset."
   ]
  },
  {
   "cell_type": "markdown",
   "metadata": {
    "_uuid": "5ee5658a6909f2d3da88384434a151338ca87434"
   },
   "source": [
    "## Clean Dataset"
   ]
  },
  {
   "cell_type": "markdown",
   "metadata": {
    "_uuid": "8f6a4acdfed206d118a946eea22f76841d5aa159"
   },
   "source": [
    "### 'Gender' Attribute (gender)"
   ]
  },
  {
   "cell_type": "code",
   "execution_count": 4,
   "metadata": {
    "_uuid": "c5d91044ab71f91cb9385b3eb4f1c83f033a9a40"
   },
   "outputs": [
    {
     "data": {
      "text/plain": [
       "female     6700\n",
       "male       6194\n",
       "brand      5942\n",
       "unknown    1117\n",
       "Name: gender, dtype: int64"
      ]
     },
     "execution_count": 4,
     "metadata": {},
     "output_type": "execute_result"
    }
   ],
   "source": [
    "data['gender'].value_counts()\n",
    "# We can see that there are 1117 unknown genders, so get rid of them"
   ]
  },
  {
   "cell_type": "markdown",
   "metadata": {},
   "source": [
    "So, we can see there are female, male. brand and unknown. Let's drop 'unknown', since it has nothing to do in this project "
   ]
  },
  {
   "cell_type": "code",
   "execution_count": 5,
   "metadata": {
    "_uuid": "b797f673af0aa8e1b30408bf53d14d7d3c968ba7",
    "scrolled": true
   },
   "outputs": [
    {
     "data": {
      "text/plain": [
       "female    6700\n",
       "male      6194\n",
       "brand     5942\n",
       "Name: gender, dtype: int64"
      ]
     },
     "execution_count": 5,
     "metadata": {},
     "output_type": "execute_result"
    }
   ],
   "source": [
    "drop_items_idx = data[data['gender'] == 'unknown'].index\n",
    "\n",
    "data.drop (index = drop_items_idx, inplace = True)\n",
    "\n",
    "data['gender'].value_counts()"
   ]
  },
  {
   "cell_type": "markdown",
   "metadata": {
    "_uuid": "ed9870442210c9050309e4cbc9c25b2734eb3318"
   },
   "source": [
    "It is suggested to keep only 100% confidence of labeling Gender and get rid of those < 100% confidence.\n",
    "Then let's do that"
   ]
  },
  {
   "cell_type": "code",
   "execution_count": 6,
   "metadata": {
    "_uuid": "189271fb9bb6a42cd4aeca7ce0cba531c59f7549"
   },
   "outputs": [
    {
     "name": "stdout",
     "output_type": "stream",
     "text": [
      "Full data items:  (18933, 9)\n",
      "Data with label-confidence < 100%:  (5103, 9)\n",
      "1.0    13804\n",
      "Name: gender:confidence, dtype: int64\n"
     ]
    }
   ],
   "source": [
    "print ('Full data items: ', data.shape)\n",
    "print ('Data with label-confidence < 100%: ', data[data['gender:confidence'] < 1].shape)\n",
    "\n",
    "drop_items_idx = data[data['gender:confidence'] < 1].index\n",
    "data.drop (index = drop_items_idx, inplace = True)\n",
    "print (data['gender:confidence'].value_counts())\n",
    "data.drop (columns = ['gender:confidence'], inplace = True)"
   ]
  },
  {
   "cell_type": "markdown",
   "metadata": {
    "_uuid": "d450d9909ff6d2744249021008f1d65ca3859358"
   },
   "source": [
    "### Get rid of remaining useless features"
   ]
  },
  {
   "cell_type": "code",
   "execution_count": 7,
   "metadata": {
    "_uuid": "57efc195f82805430c00e4c20d37744bb4f981b3"
   },
   "outputs": [
    {
     "name": "stdout",
     "output_type": "stream",
     "text": [
      "female    5367\n",
      "male      4653\n",
      "brand     3784\n",
      "Name: gender, dtype: int64\n",
      "---------------------------\n",
      "<class 'pandas.core.frame.DataFrame'>\n",
      "Int64Index: 13830 entries, 0 to 20049\n",
      "Data columns (total 8 columns):\n",
      "gender           13804 non-null object\n",
      "description      11795 non-null object\n",
      "fav_number       13830 non-null int64\n",
      "link_color       13830 non-null object\n",
      "name             13830 non-null object\n",
      "retweet_count    13830 non-null int64\n",
      "sidebar_color    13830 non-null object\n",
      "text             13830 non-null object\n",
      "dtypes: int64(2), object(6)\n",
      "memory usage: 972.4+ KB\n"
     ]
    }
   ],
   "source": [
    "# let's check the data again\n",
    "print (data['gender'].value_counts())\n",
    "\n",
    "print ('---------------------------')\n",
    "data.info()"
   ]
  },
  {
   "cell_type": "markdown",
   "metadata": {
    "_uuid": "99ca902080e75960d15e6ae339e0fe1107e7b008"
   },
   "source": [
    "## Manipulate Text data"
   ]
  },
  {
   "cell_type": "markdown",
   "metadata": {
    "_uuid": "4b4880da44eea98f8ce617ed957ce19d76e22281"
   },
   "source": [
    "### Removing stop-words in Twits"
   ]
  },
  {
   "cell_type": "code",
   "execution_count": 8,
   "metadata": {
    "_uuid": "6669122ae27396cf830a3c3f51e09fbc23e1f521"
   },
   "outputs": [
    {
     "data": {
      "text/plain": [
       "[('the', 8391),\n",
       " ('and', 7979),\n",
       " ('to', 4198),\n",
       " ('I', 3232),\n",
       " ('a', 3067),\n",
       " ('of', 2751),\n",
       " ('in', 2274),\n",
       " ('you', 2176),\n",
       " ('for', 2163),\n",
       " ('The', 2022),\n",
       " ('is', 1881),\n",
       " ('on', 1623),\n",
       " ('my', 1365),\n",
       " ('it', 1208),\n",
       " ('', 1187),\n",
       " ('with', 1158),\n",
       " ('Weather', 1074),\n",
       " ('that', 1033),\n",
       " ('from', 1022),\n",
       " ('me', 1004)]"
      ]
     },
     "execution_count": 8,
     "metadata": {},
     "output_type": "execute_result"
    }
   ],
   "source": [
    "#first, let's check the most common words\n",
    "from collections import Counter\n",
    "\n",
    "twit_vocab = Counter()\n",
    "for twit in data['text']:\n",
    "    for word in twit.split(' '):\n",
    "        twit_vocab[word] += 1\n",
    "        \n",
    "        \n",
    "twit_vocab.most_common(20)\n"
   ]
  },
  {
   "cell_type": "markdown",
   "metadata": {
    "_uuid": "67f8ff6053eabbf4ca7d9984dbc13c61cc649f57"
   },
   "source": [
    "Now we can see that the most common words are meaningless words like 'the', 'and','to'. Such words are called 'stopwords', and we need to remove them for analyzing effectively."
   ]
  },
  {
   "cell_type": "code",
   "execution_count": 9,
   "metadata": {
    "_uuid": "52a7227fc29f095d0b58e6d4a3b553ddb7d47f0c"
   },
   "outputs": [
    {
     "name": "stdout",
     "output_type": "stream",
     "text": [
      "[nltk_data] Error loading stopwords: <urlopen error [Errno -2] Name or\n",
      "[nltk_data]     service not known>\n"
     ]
    },
    {
     "data": {
      "text/plain": [
       "False"
      ]
     },
     "execution_count": 9,
     "metadata": {},
     "output_type": "execute_result"
    }
   ],
   "source": [
    "import nltk\n",
    "nltk.download('stopwords')"
   ]
  },
  {
   "cell_type": "code",
   "execution_count": 10,
   "metadata": {
    "_uuid": "6d5cb23148ff9dbff4a56ed0d497d10a50c0c4de"
   },
   "outputs": [
    {
     "data": {
      "text/plain": [
       "[('I', 3232),\n",
       " ('The', 2022),\n",
       " ('', 1187),\n",
       " ('Weather', 1074),\n",
       " ('-', 769),\n",
       " (\"I'm\", 651),\n",
       " ('like', 628),\n",
       " ('Get', 627),\n",
       " ('get', 571),\n",
       " ('Updates', 538),\n",
       " ('Channel.', 537),\n",
       " ('And', 489),\n",
       " ('one', 416),\n",
       " ('&amp;', 349),\n",
       " ('new', 345),\n",
       " ('love', 341),\n",
       " ('people', 315),\n",
       " ('time', 301),\n",
       " ('go', 290),\n",
       " ('know', 289)]"
      ]
     },
     "execution_count": 10,
     "metadata": {},
     "output_type": "execute_result"
    }
   ],
   "source": [
    "from nltk.corpus import stopwords\n",
    "stop = stopwords.words('english')\n",
    "\n",
    "twit_vocab_reduced = Counter()\n",
    "for w, c in twit_vocab.items():\n",
    "    if not w in stop:\n",
    "        twit_vocab_reduced[w]=c\n",
    "\n",
    "twit_vocab_reduced.most_common(20)"
   ]
  },
  {
   "cell_type": "markdown",
   "metadata": {
    "_uuid": "b7dea222539ef6bf8e44cfbff8bf5312f51bd1ec"
   },
   "source": [
    "### Removing special characters \n",
    "Now let's move forward to remove some puctuation signs and html tags like `&amp`"
   ]
  },
  {
   "cell_type": "code",
   "execution_count": 11,
   "metadata": {
    "_uuid": "215a5adfe751a3c181ef3e9f2ee5803b2bf68d9f"
   },
   "outputs": [
    {
     "name": "stdout",
     "output_type": "stream",
     "text": [
      "this twit is nice :)\n"
     ]
    }
   ],
   "source": [
    "import re\n",
    "\n",
    "def preprocessor(text):\n",
    "    \"\"\" Return a cleaned version of text\n",
    "    \"\"\"\n",
    "    # Remove HTML markup\n",
    "    text = re.sub('<[^>]*>', '', text)\n",
    "    # Save emoticons for later appending\n",
    "    emoticons = re.findall('(?::|;|=)(?:-)?(?:\\)|\\(|D|P)', text)\n",
    "    # Remove any non-word character and append the emoticons,\n",
    "    # removing the nose character for standarization. Convert to lower case\n",
    "    text = (re.sub('[\\W]+', ' ', text.lower()) + ' ' + ' '.join(emoticons).replace('-', ''))\n",
    "    \n",
    "    return text\n",
    "\n",
    "print(preprocessor('This!!@ twit :) is <b>nice</b>'))"
   ]
  },
  {
   "cell_type": "markdown",
   "metadata": {
    "_uuid": "bd5ffae805ed8b97f8a117b5724874b38765df06"
   },
   "source": [
    "### Lemmatization and stemming"
   ]
  },
  {
   "cell_type": "markdown",
   "metadata": {
    "_uuid": "ead39311719889968a726a1c2964c99178d2e3e6"
   },
   "source": [
    "Now let's use Porter algorithm to do the stemming"
   ]
  },
  {
   "cell_type": "code",
   "execution_count": 12,
   "metadata": {
    "_uuid": "0ff78dd068f6554d82767f81d4d50d064b6b8291"
   },
   "outputs": [
    {
     "name": "stdout",
     "output_type": "stream",
     "text": [
      "['Hi', 'there,', 'I', 'am', 'loving', 'this,', 'like', 'with', 'a', 'lot', 'of', 'love']\n",
      "['Hi', 'there,', 'I', 'am', 'love', 'this,', 'like', 'with', 'a', 'lot', 'of', 'love']\n"
     ]
    }
   ],
   "source": [
    "from nltk.stem import PorterStemmer\n",
    "\n",
    "porter = PorterStemmer()\n",
    "\n",
    "def tokenizer(text):\n",
    "    return text.split()\n",
    "\n",
    "def tokenizer_porter(text):\n",
    "    return [porter.stem(word) for word in text.split()]\n",
    "\n",
    "print(tokenizer('Hi there, I am loving this, like with a lot of love'))\n",
    "print(tokenizer_porter('Hi there, I am loving this, like with a lot of love'))"
   ]
  },
  {
   "cell_type": "markdown",
   "metadata": {},
   "source": [
    "OK, perfect!\n",
    "Now, we basically finish cleaning the dataset and we could start to do some exploratory analysis work"
   ]
  },
  {
   "cell_type": "markdown",
   "metadata": {
    "_uuid": "d9e27397d2fec79ee01d500b476d73612631adca"
   },
   "source": [
    "## Exploratory data visualization\n",
    "\n",
    "Among text data, i want to find out if other features can give me useful information or show some special characteristics."
   ]
  },
  {
   "cell_type": "code",
   "execution_count": 13,
   "metadata": {
    "_uuid": "c1fe3c81ae5344253e271b61b5c537825f6b1f04"
   },
   "outputs": [
    {
     "data": {
      "text/plain": [
       "<matplotlib.axes._subplots.AxesSubplot at 0x7f677ce9e5c0>"
      ]
     },
     "execution_count": 13,
     "metadata": {},
     "output_type": "execute_result"
    },
    {
     "data": {
      "image/png": "[encoded data removed]",
      "text/plain": [
       "<Figure size 432x288 with 1 Axes>"
      ]
     },
     "metadata": {
      "needs_background": "light"
     },
     "output_type": "display_data"
    }
   ],
   "source": [
    "#Create a countplot to visualize the amount of each label\n",
    "sns.countplot(data['gender'],label=\"Gender\",palette = 'pastel')"
   ]
  },
  {
   "cell_type": "code",
   "execution_count": 14,
   "metadata": {
    "_uuid": "03993905495e1f5a861b2c11cbc42c1c079ef761"
   },
   "outputs": [
    {
     "name": "stderr",
     "output_type": "stream",
     "text": [
      "/opt/conda/lib/python3.6/site-packages/scipy/stats/stats.py:1713: FutureWarning: Using a non-tuple sequence for multidimensional indexing is deprecated; use `arr[tuple(seq)]` instead of `arr[seq]`. In the future this will be interpreted as an array index, `arr[np.array(seq)]`, which will result either in an error or a different result.\n",
      "  return np.add.reduce(sorted[indexer] * weights, axis=axis) / sumval\n"
     ]
    },
    {
     "data": {
      "text/plain": [
       "<matplotlib.axes._subplots.AxesSubplot at 0x7f6778f1f048>"
      ]
     },
     "execution_count": 14,
     "metadata": {},
     "output_type": "execute_result"
    },
    {
     "data": {
      "image/png": "[encoded data removed]",
      "text/plain": [
       "<Figure size 432x288 with 1 Axes>"
      ]
     },
     "metadata": {
      "needs_background": "light"
     },
     "output_type": "display_data"
    }
   ],
   "source": [
    "#Create a bar plot to visualize the amount of *favorites*\n",
    "sns.barplot (x = 'gender', y = 'fav_number',data = data,palette = 'pastel')"
   ]
  },
  {
   "cell_type": "code",
   "execution_count": 15,
   "metadata": {
    "_uuid": "d9e6491d0a0f4a5e8744c8d5a9b26018b9cbf878"
   },
   "outputs": [
    {
     "name": "stderr",
     "output_type": "stream",
     "text": [
      "/opt/conda/lib/python3.6/site-packages/scipy/stats/stats.py:1713: FutureWarning: Using a non-tuple sequence for multidimensional indexing is deprecated; use `arr[tuple(seq)]` instead of `arr[seq]`. In the future this will be interpreted as an array index, `arr[np.array(seq)]`, which will result either in an error or a different result.\n",
      "  return np.add.reduce(sorted[indexer] * weights, axis=axis) / sumval\n"
     ]
    },
    {
     "data": {
      "text/plain": [
       "<matplotlib.axes._subplots.AxesSubplot at 0x7f6778ef5e80>"
      ]
     },
     "execution_count": 15,
     "metadata": {},
     "output_type": "execute_result"
    },
    {
     "data": {
      "image/png": "[encoded data removed]",
      "text/plain": [
       "<Figure size 432x288 with 1 Axes>"
      ]
     },
     "metadata": {
      "needs_background": "light"
     },
     "output_type": "display_data"
    }
   ],
   "source": [
    "#Create a bar plot to visualize the amount of *retweet_count*\n",
    "sns.barplot (x = 'gender', y = 'retweet_count',data = data, palette = 'pastel')"
   ]
  },
  {
   "cell_type": "markdown",
   "metadata": {},
   "source": [
    "Well, there is an interesting fact: compared to Men, women are less likely to retweet"
   ]
  },
  {
   "cell_type": "code",
   "execution_count": 16,
   "metadata": {
    "_uuid": "bd9b5f412be3057b35786f84e10b2f5dddf11cc8"
   },
   "outputs": [
    {
     "name": "stdout",
     "output_type": "stream",
     "text": [
      "['C0DEED' 'FFFFFF' '000000' 'EEEEEE' '181A1E' 'A8C7F7' '5ED4DC']\n"
     ]
    },
    {
     "data": {
      "text/plain": [
       "<matplotlib.axes._subplots.AxesSubplot at 0x7f6778ef91d0>"
      ]
     },
     "execution_count": 16,
     "metadata": {},
     "output_type": "execute_result"
    },
    {
     "data": {
      "image/png": "[encoded data removed]",
      "text/plain": [
       "<Figure size 432x288 with 1 Axes>"
      ]
     },
     "metadata": {},
     "output_type": "display_data"
    }
   ],
   "source": [
    "#we know that different genders have preferene for color,so here we can use the attribute sidebar color to make inference\n",
    "\n",
    "#first, let's invstigate what are man's favorite side bar colors\n",
    "male_top_sidebar_color = data[data['gender'] == 'male']['sidebar_color'].value_counts().head(7)\n",
    "male_top_sidebar_color_idx = male_top_sidebar_color.index\n",
    "male_top_color = male_top_sidebar_color_idx.values\n",
    "\n",
    "male_top_color[2] = '000000'\n",
    "print (male_top_color)\n",
    "l = lambda x: '#'+x\n",
    "\n",
    "sns.set_style(\"darkgrid\", {\"axes.facecolor\": \"#81D8D0\"})\n",
    "sns.barplot (x = male_top_sidebar_color, y = male_top_color, palette=list(map(l, male_top_color)))"
   ]
  },
  {
   "cell_type": "code",
   "execution_count": 17,
   "metadata": {
    "_uuid": "faaabb7426a24ccbb4ed1a88a99bee8492449dfd"
   },
   "outputs": [
    {
     "name": "stdout",
     "output_type": "stream",
     "text": [
      "['C0DEED' 'FFFFFF' '000000' 'EEEEEE' '65B0DA' '5ED4DC' 'CC3366']\n"
     ]
    },
    {
     "data": {
      "text/plain": [
       "<matplotlib.axes._subplots.AxesSubplot at 0x7f6778de4390>"
      ]
     },
     "execution_count": 17,
     "metadata": {},
     "output_type": "execute_result"
    },
    {
     "data": {
      "image/png": "[encoded data removed]",
      "text/plain": [
       "<Figure size 432x288 with 1 Axes>"
      ]
     },
     "metadata": {},
     "output_type": "display_data"
    }
   ],
   "source": [
    "#next, let's invstigate what are women's favorite side bar colors\n",
    "\n",
    "female_top_sidebar_color = data[data['gender'] == 'female']['sidebar_color'].value_counts().head(7)\n",
    "female_top_sidebar_color_idx = female_top_sidebar_color.index\n",
    "female_top_color = female_top_sidebar_color_idx.values\n",
    "\n",
    "female_top_color[2] = '000000'\n",
    "print (female_top_color)\n",
    "\n",
    "l = lambda x: '#'+x\n",
    "\n",
    "sns.set_style(\"darkgrid\", {\"axes.facecolor\": \"#F5ABB5\"})\n",
    "sns.barplot (x = female_top_sidebar_color, y = female_top_color, palette=list(map(l, female_top_color)))"
   ]
  },
  {
   "cell_type": "markdown",
   "metadata": {
    "_uuid": "8d6f0acca4623d4da182e3c5e563d0f9802ba8ed"
   },
   "source": [
    "The top three colors for both men and women are the same. We may infer that the top three colors are default colors of Twitter.\n",
    "Except that, there is no useful information about the side-bar color.\n",
    "Let's move on, and inverstigate the link color"
   ]
  },
  {
   "cell_type": "code",
   "execution_count": 18,
   "metadata": {
    "_uuid": "33438bba6ac1e010eedc8d874542acd0e267c280"
   },
   "outputs": [
    {
     "name": "stdout",
     "output_type": "stream",
     "text": [
      "['0084B4' '009999' '3B94D9' '2FC2EF' 'DD2E44' '000000' 'ABB8C2']\n"
     ]
    },
    {
     "data": {
      "text/plain": [
       "<matplotlib.axes._subplots.AxesSubplot at 0x7f6778d57160>"
      ]
     },
     "execution_count": 18,
     "metadata": {},
     "output_type": "execute_result"
    },
    {
     "data": {
      "image/png": "[encoded data removed]",
      "text/plain": [
       "<Figure size 432x288 with 1 Axes>"
      ]
     },
     "metadata": {},
     "output_type": "display_data"
    }
   ],
   "source": [
    "#first, let's invstigate what are man's favorite link colors\n",
    "male_top_link_color = data[data['gender'] == 'male']['link_color'].value_counts().head(7)\n",
    "male_top_link_color_idx = male_top_link_color.index\n",
    "male_top_color = male_top_link_color_idx.values\n",
    "male_top_color[1] = '009999'\n",
    "male_top_color[5] = '000000'\n",
    "print(male_top_color)\n",
    "\n",
    "l = lambda x: '#'+x\n",
    "\n",
    "sns.set_style(\"whitegrid\", {\"axes.facecolor\": \"#81D8D0\"})\n",
    "sns.barplot (x = male_top_link_color, y = male_top_link_color_idx, palette=list(map(l, male_top_color)))"
   ]
  },
  {
   "cell_type": "code",
   "execution_count": 19,
   "metadata": {
    "_uuid": "710e1bfe2e06d3a0fcb811e119fcb2ffed4571b9"
   },
   "outputs": [
    {
     "data": {
      "text/plain": [
       "<matplotlib.axes._subplots.AxesSubplot at 0x7f6778d478d0>"
      ]
     },
     "execution_count": 19,
     "metadata": {},
     "output_type": "execute_result"
    },
    {
     "data": {
      "image/png": "[encoded data removed]",
      "text/plain": [
       "<Figure size 432x288 with 1 Axes>"
      ]
     },
     "metadata": {},
     "output_type": "display_data"
    }
   ],
   "source": [
    "#next, let's invstigate what are women's favorite link colors\n",
    "female_top_link_color = data[data['gender'] == 'female']['link_color'].value_counts().head(7)\n",
    "female_top_link_color_idx = female_top_link_color.index\n",
    "female_top_color = female_top_link_color_idx.values\n",
    "\n",
    "l = lambda x: '#'+x\n",
    "\n",
    "sns.set_style(\"whitegrid\", {\"axes.facecolor\": \"#F5ABB5\"})\n",
    "sns.barplot (x = female_top_link_color, y = female_top_link_color_idx, palette=list(map(l, female_top_color)))"
   ]
  },
  {
   "cell_type": "markdown",
   "metadata": {},
   "source": [
    "Here is an interesting finding: except from the default link color #0084B4, women prefer colors like pink, purple,and red. men prefer colors like green and blue"
   ]
  },
  {
   "cell_type": "markdown",
   "metadata": {
    "_uuid": "8f116fb5d24616a32820c8eb18fc65b787273e4d"
   },
   "source": [
    "## Training classification models with Tweet-text only"
   ]
  },
  {
   "cell_type": "markdown",
   "metadata": {
    "_uuid": "d914bf85e2d3808ff5ecf9dad08b94b60d06a07d"
   },
   "source": [
    "In this project, we are going to use Term frequency-inverse document frequency (TF-IDF) as our theory to make the classifier"
   ]
  },
  {
   "cell_type": "code",
   "execution_count": 20,
   "metadata": {
    "_uuid": "ede17cb318439c9233a264eb1a1b6ef3a8a21933"
   },
   "outputs": [],
   "source": [
    "# First, let's encode categories and convert categorical labels (gender) into numerical ones\n",
    "\n",
    "from sklearn.preprocessing import LabelEncoder\n",
    "\n",
    "\n",
    "encoder = LabelEncoder()\n",
    "\n",
    "data['gender'] = encoder.fit_transform(data['gender'].astype(str))\n",
    "y = encoder.fit_transform(data['gender'])"
   ]
  },
  {
   "cell_type": "code",
   "execution_count": 21,
   "metadata": {},
   "outputs": [
    {
     "data": {
      "text/plain": [
       "8881     @catherinemep Meanwhile the Fib Dems are conti...\n",
       "9998     Ella sending a video of herself eating a chees...\n",
       "15622    Build a Transforming Workbench, Desk, and Stor...\n",
       "9986     like i didn't do it for the reward cos if i wa...\n",
       "747      The second reading was okay could've been bett...\n",
       "Name: text, dtype: object"
      ]
     },
     "execution_count": 21,
     "metadata": {},
     "output_type": "execute_result"
    }
   ],
   "source": [
    "# Then, we split the dataset in train and test\n",
    "X = data['text']\n",
    "X_train, X_test, y_train, y_test = train_test_split(X, y, test_size=0.3, random_state=0, stratify=y)\n",
    "\n",
    "X_train.head()"
   ]
  },
  {
   "cell_type": "markdown",
   "metadata": {
    "_uuid": "319b4e209d2921919d0a3fd31b268a5030cc1bde"
   },
   "source": [
    "### Logistic Regression Model"
   ]
  },
  {
   "cell_type": "code",
   "execution_count": 22,
   "metadata": {
    "_uuid": "ba77cc4f24b3d387b0b2d47fd499cf1aeda28574"
   },
   "outputs": [
    {
     "name": "stderr",
     "output_type": "stream",
     "text": [
      "/opt/conda/lib/python3.6/site-packages/sklearn/linear_model/logistic.py:432: FutureWarning: Default solver will be changed to 'lbfgs' in 0.22. Specify a solver to silence this warning.\n",
      "  FutureWarning)\n"
     ]
    },
    {
     "name": "stdout",
     "output_type": "stream",
     "text": [
      "Accuracy: 0.5982164376958303\n",
      "Confusion matrix:\n",
      " [[ 870  116  149    0]\n",
      " [ 214 1049  347    0]\n",
      " [ 256  577  563    0]\n",
      " [   1    5    2    0]]\n",
      "Classification report:\n",
      "               precision    recall  f1-score   support\n",
      "\n",
      "           0       0.65      0.77      0.70      1135\n",
      "           1       0.60      0.65      0.62      1610\n",
      "           2       0.53      0.40      0.46      1396\n",
      "           3       0.00      0.00      0.00         8\n",
      "\n",
      "   micro avg       0.60      0.60      0.60      4149\n",
      "   macro avg       0.44      0.46      0.45      4149\n",
      "weighted avg       0.59      0.60      0.59      4149\n",
      "\n"
     ]
    },
    {
     "name": "stderr",
     "output_type": "stream",
     "text": [
      "/opt/conda/lib/python3.6/site-packages/sklearn/metrics/classification.py:1143: UndefinedMetricWarning: Precision and F-score are ill-defined and being set to 0.0 in labels with no predicted samples.\n",
      "  'precision', 'predicted', average, warn_for)\n"
     ]
    }
   ],
   "source": [
    "from sklearn.linear_model import LogisticRegression\n",
    "\n",
    "#Now let's process the text with TF-IDF\n",
    "tfidf = TfidfVectorizer(lowercase=False,\n",
    "                        tokenizer=tokenizer_porter,\n",
    "                        preprocessor=preprocessor)\n",
    "#Then, let's make the classifier\n",
    "clf = Pipeline([('vect', tfidf),\n",
    "                ('clf', LogisticRegression(multi_class='ovr', random_state=0))])\n",
    "#Fit the model\n",
    "clf.fit(X_train, y_train)\n",
    "\n",
    "#Make predictions\n",
    "predictions = clf.predict(X_test)\n",
    "print('Accuracy:',accuracy_score(y_test,predictions))\n",
    "print('Confusion matrix:\\n',confusion_matrix(y_test,predictions))\n",
    "print('Classification report:\\n',classification_report(y_test,predictions))"
   ]
  },
  {
   "cell_type": "markdown",
   "metadata": {
    "_uuid": "17f8ec3892e1038c9a853599c56d24b1ab19956a"
   },
   "source": [
    "### Random Forest Model"
   ]
  },
  {
   "cell_type": "code",
   "execution_count": 23,
   "metadata": {
    "_uuid": "bcd2c94377b940e6adaa85ab73285c035ea6615b"
   },
   "outputs": [
    {
     "data": {
      "text/plain": [
       "<matplotlib.collections.PathCollection at 0x7f6778964be0>"
      ]
     },
     "execution_count": 23,
     "metadata": {},
     "output_type": "execute_result"
    },
    {
     "data": {
      "image/png": "[encoded data removed]",
      "text/plain": [
       "<Figure size 432x288 with 1 Axes>"
      ]
     },
     "metadata": {},
     "output_type": "display_data"
    }
   ],
   "source": [
    "from sklearn.ensemble import RandomForestClassifier\n",
    "\n",
    "n = range (1,100,10) #step 10\n",
    "\n",
    "results = []\n",
    "\n",
    "#let's make the classifier\n",
    "for i in n:\n",
    "    clf = Pipeline([('vect', tfidf),\n",
    "                ('clf', RandomForestClassifier(n_estimators = i, random_state=0))])\n",
    "#fit the model\n",
    "    clf.fit(X_train, y_train)\n",
    "#make predictions\n",
    "    predictions = clf.predict(X_test)\n",
    "    results.append(accuracy_score(y_test, predictions))\n",
    "plt.grid()\n",
    "plt.scatter(n, results)"
   ]
  },
  {
   "cell_type": "markdown",
   "metadata": {
    "_uuid": "f956fd287968e8e0b27cc9687907995263385f62"
   },
   "source": [
    "So from the plot, we can see that with approximately **60** trees, Random Forest classifier starts reaching the highest performance."
   ]
  },
  {
   "cell_type": "code",
   "execution_count": 24,
   "metadata": {
    "_uuid": "638166af5d374cf4a91b1d3e0bfc72a9caa17516"
   },
   "outputs": [
    {
     "name": "stdout",
     "output_type": "stream",
     "text": [
      "Accuracy: 0.5724270908652688\n",
      "Confusion matrix:\n",
      " [[ 696  253  186    0]\n",
      " [ 100 1203  307    0]\n",
      " [ 150  769  476    1]\n",
      " [   0    6    2    0]]\n",
      "Classification report:\n",
      "               precision    recall  f1-score   support\n",
      "\n",
      "           0       0.74      0.61      0.67      1135\n",
      "           1       0.54      0.75      0.63      1610\n",
      "           2       0.49      0.34      0.40      1396\n",
      "           3       0.00      0.00      0.00         8\n",
      "\n",
      "   micro avg       0.57      0.57      0.57      4149\n",
      "   macro avg       0.44      0.43      0.42      4149\n",
      "weighted avg       0.58      0.57      0.56      4149\n",
      "\n"
     ]
    }
   ],
   "source": [
    "#let's train the model and make predictons\n",
    "tfidf = TfidfVectorizer(lowercase=False,\n",
    "                        tokenizer=tokenizer_porter,\n",
    "                        preprocessor=preprocessor)\n",
    "\n",
    "clf = Pipeline([('vect', tfidf),\n",
    "                ('clf', RandomForestClassifier(n_estimators = 60, random_state=0))])\n",
    "\n",
    "clf.fit(X_train, y_train)\n",
    "\n",
    "predictions = clf.predict(X_test)\n",
    "print('Accuracy:',accuracy_score(y_test,predictions))\n",
    "print('Confusion matrix:\\n',confusion_matrix(y_test,predictions))\n",
    "print('Classification report:\\n',classification_report(y_test,predictions))"
   ]
  },
  {
   "cell_type": "markdown",
   "metadata": {},
   "source": [
    "It seems that the random forest model is not as good as the logistic regression model"
   ]
  },
  {
   "cell_type": "markdown",
   "metadata": {
    "_uuid": "d073460f0a90ae5001f12b64ab0203c876c9497a"
   },
   "source": [
    "### SVM Model"
   ]
  },
  {
   "cell_type": "code",
   "execution_count": 25,
   "metadata": {
    "_uuid": "ad27cdc6a4795a6f6f4e030b373d4e33f017ddf3"
   },
   "outputs": [
    {
     "name": "stdout",
     "output_type": "stream",
     "text": [
      "Accuracy: 0.5972523499638467\n",
      "Confusion matrix:\n",
      " [[ 857  118  160    0]\n",
      " [ 218 1012  380    0]\n",
      " [ 243  544  609    0]\n",
      " [   1    5    2    0]]\n",
      "Classification report:\n",
      "               precision    recall  f1-score   support\n",
      "\n",
      "           0       0.65      0.76      0.70      1135\n",
      "           1       0.60      0.63      0.62      1610\n",
      "           2       0.53      0.44      0.48      1396\n",
      "           3       0.00      0.00      0.00         8\n",
      "\n",
      "   micro avg       0.60      0.60      0.60      4149\n",
      "   macro avg       0.45      0.45      0.45      4149\n",
      "weighted avg       0.59      0.60      0.59      4149\n",
      "\n"
     ]
    },
    {
     "name": "stderr",
     "output_type": "stream",
     "text": [
      "/opt/conda/lib/python3.6/site-packages/sklearn/metrics/classification.py:1143: UndefinedMetricWarning: Precision and F-score are ill-defined and being set to 0.0 in labels with no predicted samples.\n",
      "  'precision', 'predicted', average, warn_for)\n"
     ]
    }
   ],
   "source": [
    "# the SVM model\n",
    "from sklearn.svm import SVC\n",
    "\n",
    "#Process data with TF-IDF\n",
    "tfidf = TfidfVectorizer(lowercase=False,\n",
    "                        tokenizer=tokenizer_porter,\n",
    "                        preprocessor=preprocessor)\n",
    "#Make classifiër\n",
    "clf = Pipeline([('vect', tfidf),\n",
    "                ('clf', SVC(kernel = 'linear'))])\n",
    "clf.fit(X_train, y_train)\n",
    "\n",
    "#Make predictions\n",
    "predictions = clf.predict(X_test)\n",
    "print('Accuracy:',accuracy_score(y_test,predictions))\n",
    "print('Confusion matrix:\\n',confusion_matrix(y_test,predictions))\n",
    "print('Classification report:\\n',classification_report(y_test,predictions))"
   ]
  },
  {
   "cell_type": "markdown",
   "metadata": {
    "_uuid": "e82f590739bcad15a9074d8f0b4c78a230d1ff7a"
   },
   "source": [
    "As we can see that, logistic regression model has the best performance to predict the gender of the users based on Text they post.\n",
    "\n",
    "However, the accuracy of Logistic regression is 59.82%, which means that there are almost 41% of chances that we make the wrong prediction. There is still space for improvement."
   ]
  }
 ],
 "metadata": {
  "kernelspec": {
   "display_name": "Python 3",
   "language": "python",
   "name": "python3"
  },
  "language_info": {
   "codemirror_mode": {
    "name": "ipython",
    "version": 3
   },
   "file_extension": ".py",
   "mimetype": "text/x-python",
   "name": "python",
   "nbconvert_exporter": "python",
   "pygments_lexer": "ipython3",
   "version": "3.6.6"
  }
 },
 "nbformat": 4,
 "nbformat_minor": 1
}
